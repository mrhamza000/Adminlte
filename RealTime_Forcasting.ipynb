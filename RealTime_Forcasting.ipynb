{
  "nbformat": 4,
  "nbformat_minor": 0,
  "metadata": {
    "colab": {
      "provenance": [],
      "authorship_tag": "ABX9TyM3S7BEHAgB016xhvGDff++",
      "include_colab_link": true
    },
    "kernelspec": {
      "name": "python3",
      "display_name": "Python 3"
    },
    "language_info": {
      "name": "python"
    }
  },
  "cells": [
    {
      "cell_type": "markdown",
      "metadata": {
        "id": "view-in-github",
        "colab_type": "text"
      },
      "source": [
        "<a href=\"https://colab.research.google.com/github/mrhamza000/Adminlte/blob/main/RealTime_Forcasting.ipynb\" target=\"_parent\"><img src=\"https://colab.research.google.com/assets/colab-badge.svg\" alt=\"Open In Colab\"/></a>"
      ]
    },
    {
      "cell_type": "markdown",
      "source": [
        "section 1: **Import labraries**"
      ],
      "metadata": {
        "id": "eE-B-blv7MPt"
      }
    },
    {
      "cell_type": "code",
      "execution_count": 3,
      "metadata": {
        "id": "9soa_QFl1gjd"
      },
      "outputs": [],
      "source": [
        "import requests\n",
        "import pandas as pd\n",
        "import numpy as np\n",
        "from sklearn.model_selection import train_test_split\n",
        "from sklearn.preprocessing import LabelEncoder\n",
        "from sklearn.ensemble import RandomForestClassifier, RandomForestRegressor\n",
        "from sklearn.metrics import mean_squared_error\n",
        "from datetime import datetime, timedelta\n",
        "import pytz\n"
      ]
    },
    {
      "cell_type": "code",
      "source": [
        "API_KEY = 'b3d22e1d3f281248f3f5a4cf88f4381c'\n",
        "BASE_URL = 'https://api.openweathermap.org/data/2.5/'\n"
      ],
      "metadata": {
        "id": "MN3mw3u-9LzP"
      },
      "execution_count": 4,
      "outputs": []
    },
    {
      "cell_type": "markdown",
      "source": [
        "**1.Fetch Current Weather Data**"
      ],
      "metadata": {
        "id": "k0WX3h-U9nMU"
      }
    },
    {
      "cell_type": "code",
      "source": [
        "def get_current_weather(city):\n",
        "  url = f\"{BASE_URL}weather?q={city}&appid={API_KEY}&units=metric\"\n",
        "  response = requests.get(url)\n",
        "  data = response.json()\n",
        "  return {\n",
        "      'city': data['name'],\n",
        "      'current_temp': round(data['main']['temp']),\n",
        "      'feels_like': round(data['main']['feels_like']),\n",
        "      'min_temp': round(data['main']['temp_min']),\n",
        "      'max_temp': round(data['main']['temp_max']),\n",
        "      'humidity': round(data['main']['humidity']),\n",
        "      'description': data['weather'][0]['description'],\n",
        "      'country': data['sys']['country'],\n",
        "      'wind_gust_dir': data['wind']['deg'],\n",
        "      'pressure': data['main']['pressure'],\n",
        "      'wind_gust_speed': data['wind']['speed'],\n",
        "\n",
        "\n",
        "  }\n",
        "\n"
      ],
      "metadata": {
        "id": "M04JdcfD92hk"
      },
      "execution_count": 5,
      "outputs": []
    },
    {
      "cell_type": "markdown",
      "source": [
        "**2. Read Data**"
      ],
      "metadata": {
        "id": "NcQnvNTPB6xR"
      }
    },
    {
      "cell_type": "code",
      "source": [
        "def read_historical_data(filename):\n",
        "  df = pd.read_csv(filename)\n",
        "  df = df.dropna()\n",
        "  df = df.drop_duplicates()\n",
        "  return df\n"
      ],
      "metadata": {
        "id": "zS3s7JYNB_ha"
      },
      "execution_count": 6,
      "outputs": []
    },
    {
      "cell_type": "markdown",
      "source": [
        "**3. Prepare data for training**"
      ],
      "metadata": {
        "id": "yvVxcnmMaZ5Z"
      }
    },
    {
      "cell_type": "code",
      "source": [
        "def prepare_data(data):\n",
        "  le = LabelEncoder()\n",
        "  data['WindGustDir'] = le.fit_transform(data['WindGustDir'])\n",
        "  data['RainTomorrow'] = le.fit_transform(data['RainTomorrow'])\n",
        "\n",
        "\n",
        "  #define the feature Variable and Target variable\n",
        "  X = data[['MinTemp','MaxTemp','WindGustDir','WindGustSpeed','Humidity','Pressure','Temp']]\n",
        "  y = data['RainTomorrow']\n",
        "  return X, y, le\n"
      ],
      "metadata": {
        "id": "sygGtRlvafq-"
      },
      "execution_count": 7,
      "outputs": []
    },
    {
      "cell_type": "markdown",
      "source": [
        "**4. Train Rain Prediction Model**"
      ],
      "metadata": {
        "id": "XXl3bXEZc5Ho"
      }
    },
    {
      "cell_type": "code",
      "source": [
        "def train_rain_model(X,y):\n",
        "  X_train, X_test, y_train, y_test = train_test_split(X,y, test_size=0.2, random_state=42)\n",
        "  model = RandomForestClassifier(n_estimators=100, random_state=42)\n",
        "  model.fit(X_train, y_train)\n",
        "  y_pred = model.predict(X_test)\n",
        "  print(\"Mean Squared Error for Rain Model\")\n",
        "  print(mean_squared_error(y_test, y_pred))\n",
        "  return model"
      ],
      "metadata": {
        "id": "qf6V-AspdA3n"
      },
      "execution_count": 8,
      "outputs": []
    },
    {
      "cell_type": "markdown",
      "source": [
        "**5. Prepare Regression Data**"
      ],
      "metadata": {
        "id": "qAFVT39Efi8V"
      }
    },
    {
      "cell_type": "code",
      "source": [
        "def prepare_regression_data(data, feature):\n",
        "  X, y = [], []\n",
        "  for i in range(len(data) - 1):\n",
        "    X.append(data[feature].iloc[i])\n",
        "    y.append(data[feature].iloc[i+1])\n",
        "\n",
        "  X = np.array(X).reshape(-1,1)\n",
        "  y = np.array(y)\n",
        "  return X, y\n"
      ],
      "metadata": {
        "id": "ghzWIp3cfvIk"
      },
      "execution_count": 9,
      "outputs": []
    },
    {
      "cell_type": "markdown",
      "source": [
        "**6. Train Regression Model**"
      ],
      "metadata": {
        "id": "RjHS6XRUhZmZ"
      }
    },
    {
      "cell_type": "code",
      "source": [
        "def train_regression_model(X,y):\n",
        "  model = RandomForestRegressor(n_estimators=100, random_state=42)\n",
        "  model.fit(X,y)\n",
        "  return model"
      ],
      "metadata": {
        "id": "7_2F0GQ9hhUw"
      },
      "execution_count": 10,
      "outputs": []
    },
    {
      "cell_type": "markdown",
      "source": [
        "**7. Predict Future**"
      ],
      "metadata": {
        "id": "N6Q0BJL4igDy"
      }
    },
    {
      "cell_type": "code",
      "source": [
        "def predict_future(model, current_value):\n",
        "  predictions = [current_value]\n",
        "\n",
        "  for i in range(5):\n",
        "    next_value = model.predict(np.array([[predictions[-1]]]))\n",
        "\n",
        "    predictions.append(next_value[0])\n",
        "  return predictions[1:]"
      ],
      "metadata": {
        "id": "jgao4c8rilFM"
      },
      "execution_count": 11,
      "outputs": []
    },
    {
      "cell_type": "markdown",
      "source": [
        "**8. Weather Analysis Function**"
      ],
      "metadata": {
        "id": "7A4sUTXwjlFV"
      }
    },
    {
      "cell_type": "code",
      "source": [
        "from time import timezone\n",
        "def weather_view():\n",
        "  city = input(\"Enter the city name: \")\n",
        "  current_weather = get_current_weather(city)\n",
        "\n",
        "  historical_data = read_historical_data('/content/weather.csv')\n",
        "\n",
        "  #prepare and train the rain prediction model\n",
        "  X, y, le = prepare_data(historical_data)\n",
        "  rain_model = train_rain_model(X, y)\n",
        "\n",
        "  #map wind direction to campass points\n",
        "  wind_deg = current_weather['wind_gust_dir'] % 360\n",
        "  compass_points = [\n",
        "      (\"N\",0, 11.25), (\"NNE\",11.25,33.75), (\"NE\",33.75,56.25),\n",
        "      (\"ENE\",56.25,78.75), (\"E\",78.75,101.25), (\"ESE\",101.25,123.75),\n",
        "      (\"SE\",123.75,146.25), (\"SSE\",146.25,168.75), (\"S\",168.75,191.25),\n",
        "      (\"SSW\",191.25,213.75), (\"SW\",213.75,236.25), (\"WSW\",236.25,258.75),\n",
        "      (\"W\",258.75,281.25), (\"WNW\",281.25,303.75), (\"NW\",303.75,326.25),\n",
        "      (\"NNW\",326.25,348.75)\n",
        "  ]\n",
        "  compass_direction = next(point for point, start, end in compass_points if start <= wind_deg < end)\n",
        "  compass_direction_encoded = le.transform([compass_direction])[0] if compass_direction in le.classes_ else -1\n",
        "\n",
        "  current_data = {\n",
        "      'MinTemp': current_weather['min_temp'],\n",
        "      'MaxTemp': current_weather['max_temp'],\n",
        "      'WindGustDir': compass_direction_encoded,\n",
        "      'WindGustSpeed': current_weather['wind_gust_speed'],\n",
        "      'Humidity': current_weather['humidity'],\n",
        "      'Pressure': current_weather['pressure'],\n",
        "      'Temp': current_weather['current_temp']\n",
        "  }\n",
        "  current_df = pd.DataFrame([current_data])\n",
        "\n",
        "  #Rain prediction\n",
        "  rain_prediction = rain_model.predict(current_df)[0]\n",
        "\n",
        "  #prepare regression model for temprature and humidity\n",
        "  X_temp, y_temp = prepare_regression_data(historical_data, 'Temp')\n",
        "  X_hum, y_hum = prepare_regression_data(historical_data, 'Humidity')\n",
        "\n",
        "  temp_model = train_regression_model(X_temp, y_temp)\n",
        "  hum_model = train_regression_model(X_hum, y_hum)\n",
        "\n",
        "  #Predict future temprature\n",
        "  future_temp = predict_future(temp_model, current_weather['min_temp'])\n",
        "  future_humidity = predict_future(hum_model, current_weather['humidity'])\n",
        "\n",
        "  #prepare time for future prediction\n",
        "  timezone = pytz.timezone('Asia/Karachi')\n",
        "  now = datetime.now(timezone)\n",
        "  next_hour = now + timedelta(hours=1)\n",
        "  next_hour = next_hour.replace(minute=0, second=0, microsecond=0)\n",
        "\n",
        "  future_times = [(next_hour + timedelta(hours=i)).strftime(\"%H:00\") for i in range(5)]\n",
        "\n",
        "  #Display the result\n",
        "\n",
        "  print(f\"Current Weather in {city}, {current_weather['country']}\")\n",
        "  print(f\"Current Temperature: {current_weather['current_temp']}°C\")\n",
        "  print(f\"Feels Like: {current_weather['feels_like']}\")\n",
        "  print(f\"Min Temperature: {current_weather['min_temp']}°C\")\n",
        "  print(f\"Max Temperature: {current_weather['max_temp']}°C\")\n",
        "  print(f\"Humidity: {current_weather['humidity']}%\")\n",
        "  print(f\"Description: {current_weather['description']}\")\n",
        "  print(f\"Rain Prediction: {'Yes' if rain_prediction else 'No'}\")\n",
        "\n",
        "\n",
        "  print(\"\\nFuture Temperature Predictions:\")\n",
        "  for time, temp in zip(future_times, future_temp):\n",
        "    print(f\"{time}: {round(temp, 1)}°C\")\n",
        "\n",
        "  print(\"\\nFuture Humidity Predictions:\")\n",
        "\n",
        "  for time, humidity in zip(future_times, future_humidity):\n",
        "    print(f\"{time}: {round(humidity, 1)}%\")\n",
        "\n",
        "\n",
        "\n",
        "weather_view()\n",
        "\n",
        "\n",
        "\n",
        "\n",
        "\n"
      ],
      "metadata": {
        "colab": {
          "base_uri": "https://localhost:8080/"
        },
        "id": "KY2WSUwAv8jg",
        "outputId": "69532e29-2613-4057-c0c9-60304d4abcb6"
      },
      "execution_count": 41,
      "outputs": [
        {
          "output_type": "stream",
          "name": "stdout",
          "text": [
            "Enter the city name: manchester\n",
            "Mean Squared Error for Rain Model\n",
            "0.1506849315068493\n",
            "Current Weather in manchester, GB\n",
            "Current Temperature: 13°C\n",
            "Feels Like: 12\n",
            "Min Temperature: 12°C\n",
            "Max Temperature: 15°C\n",
            "Humidity: 57%\n",
            "Description: broken clouds\n",
            "Rain Prediction: No\n",
            "\n",
            "Future Temperature Predictions:\n",
            "17:00: 12.8°C\n",
            "18:00: 12.4°C\n",
            "19:00: 14.4°C\n",
            "20:00: 13.4°C\n",
            "21:00: 13.6°C\n",
            "\n",
            "Future Humidity Predictions:\n",
            "17:00: 40.7%\n",
            "18:00: 52.9%\n",
            "19:00: 51.0%\n",
            "20:00: 46.6%\n",
            "21:00: 47.2%\n"
          ]
        }
      ]
    }
  ]
}